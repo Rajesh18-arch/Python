{
 "cells": [
  {
   "cell_type": "markdown",
   "id": "3b8e112f-82c8-434a-8893-fb345e6ccd13",
   "metadata": {},
   "source": [
    "PYTHON PROGRAMMING LANGUAGE"
   ]
  },
  {
   "cell_type": "code",
   "execution_count": 2,
   "id": "16aca595-8782-42ce-bf25-1c0e1860c20b",
   "metadata": {},
   "outputs": [
    {
     "data": {
      "text/plain": [
       "'WELCOME TO PYTHON'"
      ]
     },
     "execution_count": 2,
     "metadata": {},
     "output_type": "execute_result"
    }
   ],
   "source": [
    "'WELCOME TO PYTHON'\n"
   ]
  },
  {
   "cell_type": "code",
   "execution_count": 3,
   "id": "6c7a0393-cac8-46c6-9a90-11c937a85d81",
   "metadata": {},
   "outputs": [
    {
     "data": {
      "text/plain": [
       "20"
      ]
     },
     "execution_count": 3,
     "metadata": {},
     "output_type": "execute_result"
    }
   ],
   "source": [
    "20"
   ]
  },
  {
   "cell_type": "code",
   "execution_count": 4,
   "id": "696bb9b2-6760-405b-858a-245177ea461d",
   "metadata": {},
   "outputs": [
    {
     "data": {
      "text/plain": [
       "-13"
      ]
     },
     "execution_count": 4,
     "metadata": {},
     "output_type": "execute_result"
    }
   ],
   "source": [
    " 10+10-(10*3)-3\n"
   ]
  },
  {
   "cell_type": "code",
   "execution_count": 5,
   "id": "d2c1b723-b855-41b6-9f2b-035d38455bf0",
   "metadata": {},
   "outputs": [
    {
     "data": {
      "text/plain": [
       "-13"
      ]
     },
     "execution_count": 5,
     "metadata": {},
     "output_type": "execute_result"
    }
   ],
   "source": [
    " 10+10-10*3-3"
   ]
  },
  {
   "cell_type": "markdown",
   "id": "cbd8cc28-27cc-4f68-9ef5-3a1350976c27",
   "metadata": {
    "jupyter": {
     "source_hidden": true
    }
   },
   "source": [
    "numbers are called as operand\n",
    "# +,-,* are operators\n"
   ]
  },
  {
   "cell_type": "markdown",
   "id": "14f26a83-308d-4513-9fa4-7a310575dc3d",
   "metadata": {},
   "source": [
    "Arithmetic Operator"
   ]
  },
  {
   "cell_type": "markdown",
   "id": "5d489f40-62d7-4eac-a294-a5b671e4f9a6",
   "metadata": {},
   "source": [
    "1. ARITHMETIC OPERATOR (_,-,*,/,%,%%,**,^)\n",
    "2. ASSIGNMENT OPERATOR (=)\n",
    "3.  RELATIONAL OPERATOR\n",
    "4.  LOGICAL OPERATOR\n",
    "5.  UNARY OPERATOR"
   ]
  },
  {
   "cell_type": "code",
   "execution_count": 8,
   "id": "5c5f64a6-92b9-407c-96a3-477c4f4a57f3",
   "metadata": {},
   "outputs": [
    {
     "data": {
      "text/plain": [
       "1000"
      ]
     },
     "execution_count": 8,
     "metadata": {},
     "output_type": "execute_result"
    }
   ],
   "source": [
    "10**3 #POWER "
   ]
  },
  {
   "cell_type": "code",
   "execution_count": 7,
   "id": "617c3a1b-c258-48d6-93f1-4b2a472e9b6b",
   "metadata": {},
   "outputs": [
    {
     "ename": "SyntaxError",
     "evalue": "invalid syntax (1264417875.py, line 1)",
     "output_type": "error",
     "traceback": [
      "\u001b[1;36m  Cell \u001b[1;32mIn[7], line 1\u001b[1;36m\u001b[0m\n\u001b[1;33m    10***2\u001b[0m\n\u001b[1;37m        ^\u001b[0m\n\u001b[1;31mSyntaxError\u001b[0m\u001b[1;31m:\u001b[0m invalid syntax\n"
     ]
    }
   ],
   "source": [
    "10***2\n"
   ]
  },
  {
   "cell_type": "code",
   "execution_count": 9,
   "id": "38a241f7-137c-4d4f-ba51-ed8f139f93a6",
   "metadata": {},
   "outputs": [
    {
     "data": {
      "text/plain": [
       "2.0"
      ]
     },
     "execution_count": 9,
     "metadata": {},
     "output_type": "execute_result"
    }
   ],
   "source": [
    "10/5  #float division\n"
   ]
  },
  {
   "cell_type": "code",
   "execution_count": 10,
   "id": "7a3dcf55-f2d5-46d4-a983-f25915946ac2",
   "metadata": {},
   "outputs": [
    {
     "data": {
      "text/plain": [
       "2"
      ]
     },
     "execution_count": 10,
     "metadata": {},
     "output_type": "execute_result"
    }
   ],
   "source": [
    "10//5  # int division\n"
   ]
  },
  {
   "cell_type": "code",
   "execution_count": 11,
   "id": "10b0ccdb-08ba-45cc-bd75-e945224fc53e",
   "metadata": {},
   "outputs": [
    {
     "data": {
      "text/plain": [
       "0"
      ]
     },
     "execution_count": 11,
     "metadata": {},
     "output_type": "execute_result"
    }
   ],
   "source": [
    "10%5  #moduls division"
   ]
  },
  {
   "cell_type": "code",
   "execution_count": 12,
   "id": "db3f95be-a4e7-40c3-b2c6-27e66f46b961",
   "metadata": {},
   "outputs": [
    {
     "data": {
      "text/plain": [
       "3"
      ]
     },
     "execution_count": 12,
     "metadata": {},
     "output_type": "execute_result"
    }
   ],
   "source": [
    "15%6"
   ]
  },
  {
   "cell_type": "code",
   "execution_count": 14,
   "id": "17546b82-d1f4-4208-88b4-d1ea016e125e",
   "metadata": {},
   "outputs": [
    {
     "data": {
      "text/plain": [
       "2.5"
      ]
     },
     "execution_count": 14,
     "metadata": {},
     "output_type": "execute_result"
    }
   ],
   "source": [
    "15 / 6"
   ]
  },
  {
   "cell_type": "code",
   "execution_count": 15,
   "id": "cc318ac7-f052-4bb2-b9f0-35208366171c",
   "metadata": {},
   "outputs": [
    {
     "data": {
      "text/plain": [
       "0"
      ]
     },
     "execution_count": 15,
     "metadata": {},
     "output_type": "execute_result"
    }
   ],
   "source": [
    "2^2"
   ]
  },
  {
   "cell_type": "code",
   "execution_count": 16,
   "id": "aff2f954-ed3f-4320-b8c2-cdaa58109ea0",
   "metadata": {},
   "outputs": [
    {
     "data": {
      "text/plain": [
       "7"
      ]
     },
     "execution_count": 16,
     "metadata": {},
     "output_type": "execute_result"
    }
   ],
   "source": [
    "5^2"
   ]
  },
  {
   "cell_type": "markdown",
   "id": "4823cb1b-6d01-4d36-b281-7281c12e9a77",
   "metadata": {},
   "source": [
    "#Assignment Operator"
   ]
  },
  {
   "cell_type": "code",
   "execution_count": 28,
   "id": "e8c3bd1c-c686-4614-bb2d-c23bc8b92c52",
   "metadata": {},
   "outputs": [
    {
     "data": {
      "text/plain": [
       "18"
      ]
     },
     "execution_count": 28,
     "metadata": {},
     "output_type": "execute_result"
    }
   ],
   "source": [
    "x=18\n",
    "x\n",
    "# x is called variable or object or identifier"
   ]
  },
  {
   "cell_type": "code",
   "execution_count": 29,
   "id": "09967084-5fb4-4cc5-9077-a0701e50ceac",
   "metadata": {},
   "outputs": [
    {
     "data": {
      "text/plain": [
       "20"
      ]
     },
     "execution_count": 29,
     "metadata": {},
     "output_type": "execute_result"
    }
   ],
   "source": [
    "x+=2\n",
    "x\n"
   ]
  },
  {
   "cell_type": "code",
   "execution_count": 30,
   "id": "5ddb0dff-0ece-48d2-b2ce-5ab1e9334906",
   "metadata": {},
   "outputs": [
    {
     "data": {
      "text/plain": [
       "22"
      ]
     },
     "execution_count": 30,
     "metadata": {},
     "output_type": "execute_result"
    }
   ],
   "source": [
    "x+=2\n",
    "x"
   ]
  },
  {
   "cell_type": "code",
   "execution_count": 31,
   "id": "4eea5fb1-f214-487e-975a-c70a2beade5b",
   "metadata": {},
   "outputs": [
    {
     "data": {
      "text/plain": [
       "24"
      ]
     },
     "execution_count": 31,
     "metadata": {},
     "output_type": "execute_result"
    }
   ],
   "source": [
    "x+=2\n",
    "x"
   ]
  },
  {
   "cell_type": "code",
   "execution_count": 32,
   "id": "ecd88a54-afc1-43c5-89ce-29b405ac9e07",
   "metadata": {},
   "outputs": [
    {
     "data": {
      "text/plain": [
       "20"
      ]
     },
     "execution_count": 32,
     "metadata": {},
     "output_type": "execute_result"
    }
   ],
   "source": [
    "x-=4\n",
    "x"
   ]
  },
  {
   "cell_type": "code",
   "execution_count": 33,
   "id": "a6dfa860-341b-42e8-b5f5-ae234f073d15",
   "metadata": {},
   "outputs": [
    {
     "data": {
      "text/plain": [
       "16"
      ]
     },
     "execution_count": 33,
     "metadata": {},
     "output_type": "execute_result"
    }
   ],
   "source": [
    "x-=4\n",
    "x"
   ]
  },
  {
   "cell_type": "code",
   "execution_count": 34,
   "id": "35de85ab-a937-4d75-906a-2dc5e87a7427",
   "metadata": {},
   "outputs": [
    {
     "data": {
      "text/plain": [
       "18"
      ]
     },
     "execution_count": 34,
     "metadata": {},
     "output_type": "execute_result"
    }
   ],
   "source": [
    "x+=2\n",
    "x"
   ]
  },
  {
   "cell_type": "code",
   "execution_count": 35,
   "id": "4235f4a4-79fd-4579-9652-58539b29db76",
   "metadata": {},
   "outputs": [
    {
     "data": {
      "text/plain": [
       "18"
      ]
     },
     "execution_count": 35,
     "metadata": {},
     "output_type": "execute_result"
    }
   ],
   "source": [
    "x"
   ]
  },
  {
   "cell_type": "code",
   "execution_count": 36,
   "id": "901b5150-390a-4de8-983e-67b6e9d40964",
   "metadata": {},
   "outputs": [
    {
     "data": {
      "text/plain": [
       "36"
      ]
     },
     "execution_count": 36,
     "metadata": {},
     "output_type": "execute_result"
    }
   ],
   "source": [
    "x*=2\n",
    "x\n"
   ]
  },
  {
   "cell_type": "code",
   "execution_count": 37,
   "id": "079232aa-5c86-4e78-9a45-9d91d9cb9f5b",
   "metadata": {},
   "outputs": [
    {
     "data": {
      "text/plain": [
       "18.0"
      ]
     },
     "execution_count": 37,
     "metadata": {},
     "output_type": "execute_result"
    }
   ],
   "source": [
    "x/=2\n",
    "x"
   ]
  },
  {
   "cell_type": "code",
   "execution_count": 39,
   "id": "a4f77601-f545-4686-916e-fe5c7f8a0dc9",
   "metadata": {},
   "outputs": [
    {
     "data": {
      "text/plain": [
       "4.0"
      ]
     },
     "execution_count": 39,
     "metadata": {},
     "output_type": "execute_result"
    }
   ],
   "source": [
    "x=x//2\n",
    "x"
   ]
  },
  {
   "cell_type": "markdown",
   "id": "232a4f24-e691-4347-a278-29da2299aa62",
   "metadata": {},
   "source": [
    "# Unary operator"
   ]
  },
  {
   "cell_type": "code",
   "execution_count": 40,
   "id": "c2b3b0df-cd31-4bbb-82ad-bbf05502f1cd",
   "metadata": {},
   "outputs": [
    {
     "data": {
      "text/plain": [
       "8"
      ]
     },
     "execution_count": 40,
     "metadata": {},
     "output_type": "execute_result"
    }
   ],
   "source": [
    "n=8\n",
    "n"
   ]
  },
  {
   "cell_type": "code",
   "execution_count": 42,
   "id": "e8259bae-2570-4926-8f1f-7e2691a454c7",
   "metadata": {},
   "outputs": [
    {
     "data": {
      "text/plain": [
       "-8"
      ]
     },
     "execution_count": 42,
     "metadata": {},
     "output_type": "execute_result"
    }
   ],
   "source": [
    "m=-n\n",
    "m"
   ]
  },
  {
   "cell_type": "code",
   "execution_count": 43,
   "id": "fcf4e2a8-81b9-45ac-8af7-276efa6d2aec",
   "metadata": {},
   "outputs": [
    {
     "ename": "NameError",
     "evalue": "name 'nareshit' is not defined",
     "output_type": "error",
     "traceback": [
      "\u001b[1;31m---------------------------------------------------------------------------\u001b[0m",
      "\u001b[1;31mNameError\u001b[0m                                 Traceback (most recent call last)",
      "Cell \u001b[1;32mIn[43], line 1\u001b[0m\n\u001b[1;32m----> 1\u001b[0m nareshit\n",
      "\u001b[1;31mNameError\u001b[0m: name 'nareshit' is not defined"
     ]
    }
   ],
   "source": [
    "nareshit\n"
   ]
  },
  {
   "cell_type": "code",
   "execution_count": 45,
   "id": "da18f389-714c-450d-9a1d-6d54f4f1f044",
   "metadata": {},
   "outputs": [
    {
     "data": {
      "text/plain": [
       "'narestit'"
      ]
     },
     "execution_count": 45,
     "metadata": {},
     "output_type": "execute_result"
    }
   ],
   "source": [
    "\"narestit\" # string always in between \" \",' ', ''' '''"
   ]
  },
  {
   "cell_type": "code",
   "execution_count": 46,
   "id": "a61a57bd-335a-4afe-833c-a60feab3c3eb",
   "metadata": {},
   "outputs": [
    {
     "data": {
      "text/plain": [
       "8"
      ]
     },
     "execution_count": 46,
     "metadata": {},
     "output_type": "execute_result"
    }
   ],
   "source": [
    "len('nareshit')"
   ]
  },
  {
   "cell_type": "code",
   "execution_count": 47,
   "id": "163cb0e4-f19a-4b29-b267-1d3f39286375",
   "metadata": {},
   "outputs": [],
   "source": [
    "a=\"Rajesh\""
   ]
  },
  {
   "cell_type": "code",
   "execution_count": 48,
   "id": "af168012-ac65-4896-8079-e2922c232d75",
   "metadata": {},
   "outputs": [
    {
     "data": {
      "text/plain": [
       "'Rajesh'"
      ]
     },
     "execution_count": 48,
     "metadata": {},
     "output_type": "execute_result"
    }
   ],
   "source": [
    "a\n"
   ]
  },
  {
   "cell_type": "code",
   "execution_count": 50,
   "id": "1dc6ef89-ad9e-40d7-b9ef-98d6efaea779",
   "metadata": {},
   "outputs": [
    {
     "data": {
      "text/plain": [
       "6"
      ]
     },
     "execution_count": 50,
     "metadata": {},
     "output_type": "execute_result"
    }
   ],
   "source": [
    "len(a) # returns the length of string"
   ]
  },
  {
   "cell_type": "code",
   "execution_count": 51,
   "id": "cbc75cc0-52b8-48ad-ae21-864cd328d8c9",
   "metadata": {},
   "outputs": [
    {
     "data": {
      "text/plain": [
       "'s'"
      ]
     },
     "execution_count": 51,
     "metadata": {},
     "output_type": "execute_result"
    }
   ],
   "source": [
    "a[4]"
   ]
  },
  {
   "cell_type": "code",
   "execution_count": 52,
   "id": "cf7ec3de-1a3a-463c-a8f6-78cd13ee59c9",
   "metadata": {},
   "outputs": [
    {
     "data": {
      "text/plain": [
       "'Rajesh'"
      ]
     },
     "execution_count": 52,
     "metadata": {},
     "output_type": "execute_result"
    }
   ],
   "source": [
    "a"
   ]
  },
  {
   "cell_type": "code",
   "execution_count": 53,
   "id": "0c2746e7-a1b8-467a-af8e-5343ddaf90e8",
   "metadata": {},
   "outputs": [
    {
     "name": "stdout",
     "output_type": "stream",
     "text": [
      "R\n",
      "a\n",
      "j\n",
      "e\n",
      "s\n",
      "h\n"
     ]
    }
   ],
   "source": [
    "for i in a:\n",
    "    print(i)"
   ]
  },
  {
   "cell_type": "code",
   "execution_count": 54,
   "id": "23021fce-f8cc-49b0-8f79-8ad5a1dd9491",
   "metadata": {},
   "outputs": [
    {
     "data": {
      "text/plain": [
       "'Raje'"
      ]
     },
     "execution_count": 54,
     "metadata": {},
     "output_type": "execute_result"
    }
   ],
   "source": [
    "a[0:4]  # slicing of a string"
   ]
  },
  {
   "cell_type": "code",
   "execution_count": 57,
   "id": "8cbc8a52-3a2a-49ff-adb4-5c19993e51a2",
   "metadata": {},
   "outputs": [
    {
     "data": {
      "text/plain": [
       "'hsejaR'"
      ]
     },
     "execution_count": 57,
     "metadata": {},
     "output_type": "execute_result"
    }
   ],
   "source": [
    "a[::-1]  # printing of a string in reverse order"
   ]
  },
  {
   "cell_type": "markdown",
   "id": "806d146b-5f36-4e3e-b67e-55f1de28b60b",
   "metadata": {},
   "source": [
    " # python variable (identifier or object)"
   ]
  },
  {
   "cell_type": "code",
   "execution_count": 58,
   "id": "a23f27b3-5dc6-4feb-a96c-58a8918be6c7",
   "metadata": {},
   "outputs": [
    {
     "data": {
      "text/plain": [
       "5"
      ]
     },
     "execution_count": 58,
     "metadata": {},
     "output_type": "execute_result"
    }
   ],
   "source": [
    "va=5\n",
    "va"
   ]
  },
  {
   "cell_type": "code",
   "execution_count": 60,
   "id": "2c514925-a863-4bbb-b70e-7292efc2d9e3",
   "metadata": {},
   "outputs": [
    {
     "data": {
      "text/plain": [
       "140706135943736"
      ]
     },
     "execution_count": 60,
     "metadata": {},
     "output_type": "execute_result"
    }
   ],
   "source": [
    "id(va)  c"
   ]
  },
  {
   "cell_type": "code",
   "execution_count": 62,
   "id": "6c6dae85-8c3b-47ae-b4fb-c25237db4457",
   "metadata": {},
   "outputs": [
    {
     "ename": "SyntaxError",
     "evalue": "invalid decimal literal (1463481920.py, line 1)",
     "output_type": "error",
     "traceback": [
      "\u001b[1;36m  Cell \u001b[1;32mIn[62], line 1\u001b[1;36m\u001b[0m\n\u001b[1;33m    1nit=19\u001b[0m\n\u001b[1;37m    ^\u001b[0m\n\u001b[1;31mSyntaxError\u001b[0m\u001b[1;31m:\u001b[0m invalid decimal literal\n"
     ]
    }
   ],
   "source": [
    "1nit=19\n",
    "1nit    # variable never starts with digits but it can ends with digit\n"
   ]
  },
  {
   "cell_type": "code",
   "execution_count": 63,
   "id": "54304497-ced8-4bcf-9489-b8177fec5290",
   "metadata": {},
   "outputs": [],
   "source": [
    "nit3=3"
   ]
  },
  {
   "cell_type": "code",
   "execution_count": 64,
   "id": "1c89d1cd-421e-4834-a0d2-d454f46798ad",
   "metadata": {},
   "outputs": [
    {
     "data": {
      "text/plain": [
       "3"
      ]
     },
     "execution_count": 64,
     "metadata": {},
     "output_type": "execute_result"
    }
   ],
   "source": [
    "nit3\n"
   ]
  },
  {
   "cell_type": "code",
   "execution_count": 67,
   "id": "1cafa210-9273-4ecd-a55f-fa404e01dccb",
   "metadata": {},
   "outputs": [
    {
     "ename": "NameError",
     "evalue": "name 'NIT3' is not defined",
     "output_type": "error",
     "traceback": [
      "\u001b[1;31m---------------------------------------------------------------------------\u001b[0m",
      "\u001b[1;31mNameError\u001b[0m                                 Traceback (most recent call last)",
      "Cell \u001b[1;32mIn[67], line 2\u001b[0m\n\u001b[0;32m      1\u001b[0m nit3\u001b[38;5;241m=\u001b[39m\u001b[38;5;241m46\u001b[39m   \u001b[38;5;66;03m# python is a case sensitive while calling the variables and so on.\u001b[39;00m\n\u001b[1;32m----> 2\u001b[0m NIT3\n",
      "\u001b[1;31mNameError\u001b[0m: name 'NIT3' is not defined"
     ]
    }
   ],
   "source": [
    "nit3=46   # python is a case sensitive while calling the variables and so on.\n",
    "NIT3"
   ]
  },
  {
   "cell_type": "code",
   "execution_count": 68,
   "id": "c466353d-9bd2-466d-b2d1-b24b5f8ab2ac",
   "metadata": {},
   "outputs": [
    {
     "data": {
      "text/plain": [
       "46"
      ]
     },
     "execution_count": 68,
     "metadata": {},
     "output_type": "execute_result"
    }
   ],
   "source": [
    "nit3"
   ]
  },
  {
   "cell_type": "code",
   "execution_count": 69,
   "id": "4630f6c2-d2d5-4c94-ac0b-61fa2b90cec2",
   "metadata": {},
   "outputs": [
    {
     "ename": "SyntaxError",
     "evalue": "invalid syntax (3032278361.py, line 1)",
     "output_type": "error",
     "traceback": [
      "\u001b[1;36m  Cell \u001b[1;32mIn[69], line 1\u001b[1;36m\u001b[0m\n\u001b[1;33m    v$=90\u001b[0m\n\u001b[1;37m     ^\u001b[0m\n\u001b[1;31mSyntaxError\u001b[0m\u001b[1;31m:\u001b[0m invalid syntax\n"
     ]
    }
   ],
   "source": [
    "v$=90   # special character is not allowed except undrscore(_)\n",
    "v$"
   ]
  },
  {
   "cell_type": "code",
   "execution_count": 70,
   "id": "23bcbb0c-d388-49ed-9a80-03f835f175f1",
   "metadata": {},
   "outputs": [
    {
     "data": {
      "text/plain": [
       "89"
      ]
     },
     "execution_count": 70,
     "metadata": {},
     "output_type": "execute_result"
    }
   ],
   "source": [
    "v_=89   \n",
    "v_"
   ]
  },
  {
   "cell_type": "markdown",
   "id": "d724c1dd-33a2-42c1-9247-1ef833b1a024",
   "metadata": {},
   "source": [
    "\n",
    "\n",
    "\n",
    "\n",
    "# key words or reserved words never be delared as variables\n"
   ]
  },
  {
   "cell_type": "markdown",
   "id": "6ce44e54-4c34-4840-a543-63406501413d",
   "metadata": {},
   "source": [
    "# python key words (35)"
   ]
  },
  {
   "cell_type": "code",
   "execution_count": 72,
   "id": "611247df-90eb-4676-915c-75df1ec5c82f",
   "metadata": {},
   "outputs": [
    {
     "data": {
      "text/plain": [
       "['False',\n",
       " 'None',\n",
       " 'True',\n",
       " 'and',\n",
       " 'as',\n",
       " 'assert',\n",
       " 'async',\n",
       " 'await',\n",
       " 'break',\n",
       " 'class',\n",
       " 'continue',\n",
       " 'def',\n",
       " 'del',\n",
       " 'elif',\n",
       " 'else',\n",
       " 'except',\n",
       " 'finally',\n",
       " 'for',\n",
       " 'from',\n",
       " 'global',\n",
       " 'if',\n",
       " 'import',\n",
       " 'in',\n",
       " 'is',\n",
       " 'lambda',\n",
       " 'nonlocal',\n",
       " 'not',\n",
       " 'or',\n",
       " 'pass',\n",
       " 'raise',\n",
       " 'return',\n",
       " 'try',\n",
       " 'while',\n",
       " 'with',\n",
       " 'yield']"
      ]
     },
     "execution_count": 72,
     "metadata": {},
     "output_type": "execute_result"
    }
   ],
   "source": [
    "import keyword\n",
    "keyword.kwlist"
   ]
  },
  {
   "cell_type": "code",
   "execution_count": 74,
   "id": "12b9a6b3-5c07-4788-8d9e-fe3433c3f56f",
   "metadata": {},
   "outputs": [
    {
     "ename": "SyntaxError",
     "evalue": "invalid syntax (3652958309.py, line 1)",
     "output_type": "error",
     "traceback": [
      "\u001b[1;36m  Cell \u001b[1;32mIn[74], line 1\u001b[1;36m\u001b[0m\n\u001b[1;33m    def=89\u001b[0m\n\u001b[1;37m       ^\u001b[0m\n\u001b[1;31mSyntaxError\u001b[0m\u001b[1;31m:\u001b[0m invalid syntax\n"
     ]
    }
   ],
   "source": [
    "def=89\n",
    "def"
   ]
  },
  {
   "cell_type": "code",
   "execution_count": 75,
   "id": "20a81e79-5eba-4362-997d-3fa8ecc66ebb",
   "metadata": {},
   "outputs": [
    {
     "data": {
      "text/plain": [
       "89"
      ]
     },
     "execution_count": 75,
     "metadata": {},
     "output_type": "execute_result"
    }
   ],
   "source": [
    "Def=89\n",
    "Def"
   ]
  },
  {
   "cell_type": "code",
   "execution_count": 76,
   "id": "38fef3f3-9320-4cb5-b3e7-f1856d82e269",
   "metadata": {},
   "outputs": [
    {
     "ename": "SyntaxError",
     "evalue": "invalid decimal literal (3270942346.py, line 1)",
     "output_type": "error",
     "traceback": [
      "\u001b[1;36m  Cell \u001b[1;32mIn[76], line 1\u001b[1;36m\u001b[0m\n\u001b[1;33m    5a=45\u001b[0m\n\u001b[1;37m    ^\u001b[0m\n\u001b[1;31mSyntaxError\u001b[0m\u001b[1;31m:\u001b[0m invalid decimal literal\n"
     ]
    }
   ],
   "source": [
    "5a=45\n",
    "5a"
   ]
  },
  {
   "cell_type": "code",
   "execution_count": 78,
   "id": "bccaf875-1325-4b2c-92bb-aefe375783bc",
   "metadata": {},
   "outputs": [
    {
     "data": {
      "text/plain": [
       "35"
      ]
     },
     "execution_count": 78,
     "metadata": {},
     "output_type": "execute_result"
    }
   ],
   "source": [
    "len(keyword.kwlist)"
   ]
  },
  {
   "cell_type": "code",
   "execution_count": 81,
   "id": "e3482ea2-1269-407e-999a-465d3990400c",
   "metadata": {},
   "outputs": [
    {
     "name": "stdout",
     "output_type": "stream",
     "text": [
      "3\n",
      "9\n",
      "5\n"
     ]
    }
   ],
   "source": [
    "a=3\n",
    "b=9\n",
    "c=5\n",
    "\n",
    "print(a)\n",
    "print(b)\n",
    "print(c)    # we use print keyword when we need the output more than 1 result at a time"
   ]
  },
  {
   "cell_type": "code",
   "execution_count": 82,
   "id": "0223cb47-0907-4130-963d-31e437a16eb4",
   "metadata": {},
   "outputs": [
    {
     "data": {
      "text/plain": [
       "'3.12.7 | packaged by Anaconda, Inc. | (main, Oct  4 2024, 13:17:27) [MSC v.1929 64 bit (AMD64)]'"
      ]
     },
     "execution_count": 82,
     "metadata": {},
     "output_type": "execute_result"
    }
   ],
   "source": [
    "import sys\n",
    "sys.version"
   ]
  },
  {
   "cell_type": "markdown",
   "id": "a438ec66-8857-421b-a89f-b01ce8a3da9a",
   "metadata": {},
   "source": [
    "# completed variable concept in python"
   ]
  },
  {
   "cell_type": "markdown",
   "id": "84edd9b2-2e95-4fac-bbda-ddf66e8c9ca8",
   "metadata": {},
   "source": [
    "Father of python is Guido van Rossum"
   ]
  },
  {
   "cell_type": "markdown",
   "id": "c16af4cc-d894-4dfc-9ca9-98b3cb08e4f8",
   "metadata": {},
   "source": [
    "python name comes from -- serial complete monty python flying circus"
   ]
  },
  {
   "cell_type": "code",
   "execution_count": 83,
   "id": "8de927b0-9857-4bf3-87a9-0519329838a5",
   "metadata": {},
   "outputs": [
    {
     "data": {
      "text/plain": [
       "5"
      ]
     },
     "execution_count": 83,
     "metadata": {},
     "output_type": "execute_result"
    }
   ],
   "source": [
    "a=5\n",
    "a"
   ]
  },
  {
   "cell_type": "code",
   "execution_count": 85,
   "id": "56c3052b-27d6-4450-b18a-a5ffba97b26a",
   "metadata": {},
   "outputs": [
    {
     "ename": "SyntaxError",
     "evalue": "invalid syntax. Perhaps you forgot a comma? (1341738222.py, line 2)",
     "output_type": "error",
     "traceback": [
      "\u001b[1;36m  Cell \u001b[1;32mIn[85], line 2\u001b[1;36m\u001b[0m\n\u001b[1;33m    PVM(python virtual machine)\u001b[0m\n\u001b[1;37m        ^\u001b[0m\n\u001b[1;31mSyntaxError\u001b[0m\u001b[1;31m:\u001b[0m invalid syntax. Perhaps you forgot a comma?\n"
     ]
    }
   ],
   "source": [
    "#python is \n",
    "PVM(python virtual machine)\n",
    "platform independent (we can execute the code in several system)\n",
    "Python is dynamic programming language"
   ]
  },
  {
   "cell_type": "code",
   "execution_count": 86,
   "id": "81005e57-4809-4f4f-978a-173045078472",
   "metadata": {},
   "outputs": [
    {
     "data": {
      "text/plain": [
       "34.56"
      ]
     },
     "execution_count": 86,
     "metadata": {},
     "output_type": "execute_result"
    }
   ],
   "source": [
    "a=34.56\n",
    "a"
   ]
  },
  {
   "cell_type": "code",
   "execution_count": 87,
   "id": "d3ab4b27-27b8-4263-a348-8391398c2179",
   "metadata": {},
   "outputs": [
    {
     "data": {
      "text/plain": [
       "float"
      ]
     },
     "execution_count": 87,
     "metadata": {},
     "output_type": "execute_result"
    }
   ],
   "source": [
    "type(a)\n"
   ]
  },
  {
   "cell_type": "markdown",
   "id": "d447ccf7-a0d6-4995-b0b4-54db9dda3082",
   "metadata": {},
   "source": [
    "libraries\n",
    "SciPy---take care of statistics\n",
    "Sypder--ML\n",
    "NumbPy---matrix\n",
    "we need to convert images to matrix"
   ]
  },
  {
   "cell_type": "markdown",
   "id": "7965923d-ac5a-49fd-aa8e-2b8f878a573c",
   "metadata": {},
   "source": [
    "# running the code line by line is interpreter\n",
    "# running the total code is compiler\n",
    "# python variable---> variablename=value\n"
   ]
  },
  {
   "cell_type": "code",
   "execution_count": 88,
   "id": "1668b16d-d20f-45db-af8a-d76da3c8e5c1",
   "metadata": {},
   "outputs": [
    {
     "data": {
      "text/plain": [
       "'types of data \\nint- value without decimal\\nfloat-value with decimal\\nstring-value with \"|\"\"|\\nbool- True or False\\ncomplex--a+bj'"
      ]
     },
     "execution_count": 88,
     "metadata": {},
     "output_type": "execute_result"
    }
   ],
   "source": [
    "a=10 # (a-variable 10-value) 10-integer value \n",
    " # type(a)---int\n",
    "'''types of data \n",
    "int- value without decimal\n",
    "float-value with decimal\n",
    "string-value with \"|\"\"|''' '''\n",
    "bool- True or False\n",
    "complex--a+bj'''"
   ]
  },
  {
   "cell_type": "markdown",
   "id": "876afc3d-0d75-43c4-acda-bb1757fea7e0",
   "metadata": {},
   "source": [
    "# Python datatypes --->\n",
    "  --integer datatypes\n",
    "  --float datatypes\n",
    "  --Bool data types\n",
    "  --string datatypes\n",
    "  -- complex datatypes\n",
    "  "
   ]
  },
  {
   "cell_type": "code",
   "execution_count": 91,
   "id": "a490e487-cae3-4d12-95fd-398268e934a8",
   "metadata": {},
   "outputs": [
    {
     "name": "stdout",
     "output_type": "stream",
     "text": [
      "45\n",
      "<class 'int'>\n"
     ]
    }
   ],
   "source": [
    "a=45\n",
    "print(a)\n",
    "print(type(a))"
   ]
  },
  {
   "cell_type": "code",
   "execution_count": 93,
   "id": "a13359ca-d763-4a0b-bf46-57cba3699964",
   "metadata": {},
   "outputs": [
    {
     "name": "stdout",
     "output_type": "stream",
     "text": [
      "<class 'int'>\n"
     ]
    }
   ],
   "source": [
    "print(type(a))  # <class 'int'> is inbuilt class"
   ]
  },
  {
   "cell_type": "code",
   "execution_count": 94,
   "id": "c4455acc-d3d6-4e8c-b460-54d8ef6e8758",
   "metadata": {},
   "outputs": [
    {
     "data": {
      "text/plain": [
       "float"
      ]
     },
     "execution_count": 94,
     "metadata": {},
     "output_type": "execute_result"
    }
   ],
   "source": [
    "petrol=110.56\n",
    "type(petrol)"
   ]
  },
  {
   "cell_type": "code",
   "execution_count": 96,
   "id": "50914043-df5c-46b1-8f9d-95da1c490a4e",
   "metadata": {},
   "outputs": [
    {
     "name": "stdout",
     "output_type": "stream",
     "text": [
      "20 40\n",
      "40\n",
      "60\n",
      "-20\n",
      "800\n",
      "0.5\n"
     ]
    }
   ],
   "source": [
    "i1,i2=20,40\n",
    "print(i1,i2)\n",
    "print(i2)\n",
    "print(i1 + i2)\n",
    "print(i1 - i2)\n",
    "print(i1 * i2)\n",
    "print(i1 / i2)"
   ]
  },
  {
   "cell_type": "markdown",
   "id": "71767775-4c8c-4e91-bf5e-5fbb8a2c339e",
   "metadata": {},
   "source": [
    " # string (non-technical--text, technical--string)"
   ]
  },
  {
   "cell_type": "code",
   "execution_count": 97,
   "id": "b9091742-4a9b-4daa-91d8-4d647bc9d836",
   "metadata": {},
   "outputs": [
    {
     "ename": "NameError",
     "evalue": "name 'nareshit' is not defined",
     "output_type": "error",
     "traceback": [
      "\u001b[1;31m---------------------------------------------------------------------------\u001b[0m",
      "\u001b[1;31mNameError\u001b[0m                                 Traceback (most recent call last)",
      "Cell \u001b[1;32mIn[97], line 1\u001b[0m\n\u001b[1;32m----> 1\u001b[0m s\u001b[38;5;241m=\u001b[39mnareshit\n\u001b[0;32m      2\u001b[0m s\n",
      "\u001b[1;31mNameError\u001b[0m: name 'nareshit' is not defined"
     ]
    }
   ],
   "source": [
    "s = nareshit\n",
    "s"
   ]
  },
  {
   "cell_type": "code",
   "execution_count": 98,
   "id": "371366e5-b86e-491e-acc6-2212773553c0",
   "metadata": {},
   "outputs": [
    {
     "data": {
      "text/plain": [
       "'nareshit'"
      ]
     },
     "execution_count": 98,
     "metadata": {},
     "output_type": "execute_result"
    }
   ],
   "source": [
    "s = 'nareshit'\n",
    "s"
   ]
  },
  {
   "cell_type": "code",
   "execution_count": 99,
   "id": "1a207813-a161-486f-aa9f-d0810cab730e",
   "metadata": {},
   "outputs": [
    {
     "data": {
      "text/plain": [
       "str"
      ]
     },
     "execution_count": 99,
     "metadata": {},
     "output_type": "execute_result"
    }
   ],
   "source": [
    "type(s)\n"
   ]
  },
  {
   "cell_type": "code",
   "execution_count": 100,
   "id": "d2b6b07a-45c2-4d1d-9d75-146aa9e84fd7",
   "metadata": {},
   "outputs": [
    {
     "data": {
      "text/plain": [
       "'nareshit'"
      ]
     },
     "execution_count": 100,
     "metadata": {},
     "output_type": "execute_result"
    }
   ],
   "source": [
    "s1 = \"nareshit\"\n",
    "s1"
   ]
  },
  {
   "cell_type": "code",
   "execution_count": 103,
   "id": "b82457ea-1126-4cb4-b967-97dd70f7f0c5",
   "metadata": {},
   "outputs": [
    {
     "data": {
      "text/plain": [
       "'naresh it technology\\n      datascience, ai student  -- 6 month i will change your brain'"
      ]
     },
     "execution_count": 103,
     "metadata": {},
     "output_type": "execute_result"
    }
   ],
   "source": [
    "s2= '''naresh it technology\n",
    "      datascience, ai student  -- 6 month i will change your brain'''\n",
    "s2"
   ]
  },
  {
   "cell_type": "markdown",
   "id": "77518163-e49b-4835-bc14-77a190cdeb45",
   "metadata": {},
   "source": [
    "string--- for single line--- which ''|\"\"\n",
    "multiline--''' '''"
   ]
  },
  {
   "cell_type": "markdown",
   "id": "300f14b9-d482-4f3b-917b-a6556f00ccb3",
   "metadata": {},
   "source": [
    "# string-->\n",
    " assign text to the variable\n",
    "define ''| \" \"|''' '''(multiline comments\n",
    "\n",
    "string indexing-->\n",
    "\n",
    "forward indexing--left to right(begin with 0)\n",
    "backward indexing---right to left(begins with -1)"
   ]
  },
  {
   "cell_type": "code",
   "execution_count": 108,
   "id": "f2cc9e56-15fb-4ce7-a885-080f8e085040",
   "metadata": {},
   "outputs": [
    {
     "name": "stdout",
     "output_type": "stream",
     "text": [
      "n\n",
      "t\n",
      "e\n"
     ]
    }
   ],
   "source": [
    "print(s[0])\n",
    "print(s[-1])\n",
    "print(s[3])"
   ]
  },
  {
   "cell_type": "code",
   "execution_count": 109,
   "id": "75a66bef-7aa5-4d0f-ae67-d724472074f8",
   "metadata": {},
   "outputs": [
    {
     "data": {
      "text/plain": [
       "'nareshit'"
      ]
     },
     "execution_count": 109,
     "metadata": {},
     "output_type": "execute_result"
    }
   ],
   "source": [
    "s[:]"
   ]
  },
  {
   "cell_type": "code",
   "execution_count": 110,
   "id": "23fbb202-8df3-4805-9e7d-7b5ef2eedbe5",
   "metadata": {},
   "outputs": [
    {
     "data": {
      "text/plain": [
       "'res'"
      ]
     },
     "execution_count": 110,
     "metadata": {},
     "output_type": "execute_result"
    }
   ],
   "source": [
    "s[2:5]"
   ]
  },
  {
   "cell_type": "markdown",
   "id": "f583150f-c6e0-46bd-ab21-ff446b227558",
   "metadata": {},
   "source": [
    "21st april"
   ]
  },
  {
   "cell_type": "code",
   "execution_count": 112,
   "id": "0f654b9c-f6dc-4a3a-8be9-3d036ffb2597",
   "metadata": {},
   "outputs": [
    {
     "data": {
      "text/plain": [
       "float"
      ]
     },
     "execution_count": 112,
     "metadata": {},
     "output_type": "execute_result"
    }
   ],
   "source": [
    "i=5.5\n",
    "type(i)\n"
   ]
  },
  {
   "cell_type": "markdown",
   "id": "a9948fde-b5be-42a5-a5a5-a7c2adba38b5",
   "metadata": {},
   "source": [
    "# LIST are defined in []"
   ]
  },
  {
   "cell_type": "code",
   "execution_count": 113,
   "id": "8122d368-3e9d-43d4-b4a4-da73aefd4580",
   "metadata": {},
   "outputs": [
    {
     "data": {
      "text/plain": [
       "[]"
      ]
     },
     "execution_count": 113,
     "metadata": {},
     "output_type": "execute_result"
    }
   ],
   "source": [
    "l=[]\n",
    "l"
   ]
  },
  {
   "cell_type": "code",
   "execution_count": 114,
   "id": "c16930ba-6a83-4415-b2c0-b88b788e80e8",
   "metadata": {},
   "outputs": [
    {
     "data": {
      "text/plain": [
       "list"
      ]
     },
     "execution_count": 114,
     "metadata": {},
     "output_type": "execute_result"
    }
   ],
   "source": [
    "type(l)"
   ]
  },
  {
   "cell_type": "code",
   "execution_count": 117,
   "id": "bbca7424-5652-49f0-a44f-5317631796ca",
   "metadata": {},
   "outputs": [
    {
     "data": {
      "text/plain": [
       "[10]"
      ]
     },
     "execution_count": 117,
     "metadata": {},
     "output_type": "execute_result"
    }
   ],
   "source": [
    "l.append(10)\n",
    "l"
   ]
  },
  {
   "cell_type": "code",
   "execution_count": 122,
   "id": "43a5506a-3f81-40e8-b46b-bb102f6e146f",
   "metadata": {},
   "outputs": [],
   "source": [
    "l.append(20)\n",
    "l.append(30)\n",
    "l.append(40)\n",
    "l.append(50)\n",
    "l.append(60)"
   ]
  },
  {
   "cell_type": "code",
   "execution_count": 119,
   "id": "d2c4d843-f180-4835-a59c-715e1229700d",
   "metadata": {},
   "outputs": [
    {
     "data": {
      "text/plain": [
       "[10, 20, 30, 40, 50]"
      ]
     },
     "execution_count": 119,
     "metadata": {},
     "output_type": "execute_result"
    }
   ],
   "source": [
    "l"
   ]
  },
  {
   "cell_type": "code",
   "execution_count": 120,
   "id": "0307ffbb-00aa-4250-babf-3bfbf9158078",
   "metadata": {},
   "outputs": [
    {
     "ename": "TypeError",
     "evalue": "list.append() takes exactly one argument (3 given)",
     "output_type": "error",
     "traceback": [
      "\u001b[1;31m---------------------------------------------------------------------------\u001b[0m",
      "\u001b[1;31mTypeError\u001b[0m                                 Traceback (most recent call last)",
      "Cell \u001b[1;32mIn[120], line 1\u001b[0m\n\u001b[1;32m----> 1\u001b[0m l\u001b[38;5;241m.\u001b[39mappend(\u001b[38;5;241m70\u001b[39m,\u001b[38;5;241m80\u001b[39m,\u001b[38;5;241m90\u001b[39m)\n",
      "\u001b[1;31mTypeError\u001b[0m: list.append() takes exactly one argument (3 given)"
     ]
    }
   ],
   "source": [
    "l.append(70,80,90) # only one argument is valid"
   ]
  },
  {
   "cell_type": "code",
   "execution_count": 123,
   "id": "37eb4bd3-644f-43aa-ae36-2a787c6920be",
   "metadata": {},
   "outputs": [
    {
     "data": {
      "text/plain": [
       "[10, 20, 30, 40, 50, 20, 30, 40, 50, 60]"
      ]
     },
     "execution_count": 123,
     "metadata": {},
     "output_type": "execute_result"
    }
   ],
   "source": [
    "l"
   ]
  },
  {
   "cell_type": "code",
   "execution_count": 124,
   "id": "18344c89-927f-475f-8f67-b0e9cf6457e2",
   "metadata": {},
   "outputs": [
    {
     "data": {
      "text/plain": [
       "[10, 20, 30, 40, 50, 20, 30, 40, 50, 60]"
      ]
     },
     "execution_count": 124,
     "metadata": {},
     "output_type": "execute_result"
    }
   ],
   "source": [
    "l"
   ]
  },
  {
   "cell_type": "markdown",
   "id": "c67a85db-842d-462d-9524-de33c33bd20b",
   "metadata": {},
   "source": [
    "append() adding element at last only one element can be added at a time\n",
    "list is growable\n",
    "duplicate is allowed"
   ]
  },
  {
   "cell_type": "code",
   "execution_count": 125,
   "id": "7e53f0bc-6e2b-487d-90f8-bb4070286423",
   "metadata": {},
   "outputs": [
    {
     "data": {
      "text/plain": [
       "10"
      ]
     },
     "execution_count": 125,
     "metadata": {},
     "output_type": "execute_result"
    }
   ],
   "source": [
    "len(l)"
   ]
  },
  {
   "cell_type": "code",
   "execution_count": 127,
   "id": "f8b72dda-f7d8-4ff0-9ee9-b72888511136",
   "metadata": {},
   "outputs": [],
   "source": [
    "l1=l.copy()"
   ]
  },
  {
   "cell_type": "code",
   "execution_count": 128,
   "id": "1799fffb-3092-48db-9782-433a410911c0",
   "metadata": {},
   "outputs": [
    {
     "data": {
      "text/plain": [
       "[10, 20, 30, 40, 50, 20, 30, 40, 50, 60]"
      ]
     },
     "execution_count": 128,
     "metadata": {},
     "output_type": "execute_result"
    }
   ],
   "source": [
    "l1"
   ]
  },
  {
   "cell_type": "code",
   "execution_count": 131,
   "id": "65c8af04-afff-434b-aed4-13af86c8cc63",
   "metadata": {},
   "outputs": [],
   "source": [
    "l1.append(2.3)\n",
    "l1.append('nit')\n",
    "l1.append(1-2j)\n",
    "l1.append([1,2,3])"
   ]
  },
  {
   "cell_type": "code",
   "execution_count": 132,
   "id": "9c326b56-462e-4443-bc82-86edfa4e0444",
   "metadata": {},
   "outputs": [
    {
     "name": "stdout",
     "output_type": "stream",
     "text": [
      "[10, 20, 30, 40, 50, 20, 30, 40, 50, 60]\n",
      "[10, 20, 30, 40, 50, 20, 30, 40, 50, 60, 2.3, 'nit', (1-2j), [1, 2, 3]]\n"
     ]
    }
   ],
   "source": [
    "print(l)\n",
    "print(l1) # list inside list=nested list, for inside for is nested for "
   ]
  },
  {
   "cell_type": "code",
   "execution_count": 134,
   "id": "1381fb10-4bd2-4943-9d28-6aa58b705a5f",
   "metadata": {},
   "outputs": [
    {
     "name": "stdout",
     "output_type": "stream",
     "text": [
      "10\n",
      "14\n"
     ]
    }
   ],
   "source": [
    "print(len(l))\n",
    "print(len(l1)) # in list multiple data types can be defined"
   ]
  },
  {
   "cell_type": "code",
   "execution_count": 135,
   "id": "2f9c2c03-0a75-4dfe-9d90-68bd7b322d01",
   "metadata": {},
   "outputs": [
    {
     "data": {
      "text/plain": [
       "False"
      ]
     },
     "execution_count": 135,
     "metadata": {},
     "output_type": "execute_result"
    }
   ],
   "source": [
    "l==l1"
   ]
  },
  {
   "cell_type": "code",
   "execution_count": 137,
   "id": "acd613f7-126d-42ce-a7fb-4ba2e46db560",
   "metadata": {},
   "outputs": [
    {
     "data": {
      "text/plain": [
       "[10, 20, 30, 40, 50, 20, 30, 40, 50, 60]"
      ]
     },
     "execution_count": 137,
     "metadata": {},
     "output_type": "execute_result"
    }
   ],
   "source": [
    "l"
   ]
  },
  {
   "cell_type": "code",
   "execution_count": 139,
   "id": "77f3abaa-435f-4fc7-9fcc-47b102701e79",
   "metadata": {},
   "outputs": [
    {
     "data": {
      "text/plain": [
       "[10, 20, 30, 40, 50, 20, 30, 40, 50, 60]"
      ]
     },
     "execution_count": 139,
     "metadata": {},
     "output_type": "execute_result"
    }
   ],
   "source": [
    "l[:]"
   ]
  },
  {
   "cell_type": "code",
   "execution_count": 140,
   "id": "8f1b6c8f-4449-4bbe-9c3e-3d3dcdfbb563",
   "metadata": {},
   "outputs": [
    {
     "data": {
      "text/plain": [
       "10"
      ]
     },
     "execution_count": 140,
     "metadata": {},
     "output_type": "execute_result"
    }
   ],
   "source": [
    "l[0]"
   ]
  },
  {
   "cell_type": "code",
   "execution_count": 141,
   "id": "9b20c01f-ebe6-4efe-b18e-cbe8df763974",
   "metadata": {},
   "outputs": [],
   "source": [
    "l[0]=100 # this is called mutable(changeable)"
   ]
  },
  {
   "cell_type": "code",
   "execution_count": 142,
   "id": "0b710729-3972-47da-b54e-618298ad553f",
   "metadata": {},
   "outputs": [
    {
     "data": {
      "text/plain": [
       "[100, 20, 30, 40, 50, 20, 30, 40, 50, 60]"
      ]
     },
     "execution_count": 142,
     "metadata": {},
     "output_type": "execute_result"
    }
   ],
   "source": [
    "l"
   ]
  },
  {
   "cell_type": "code",
   "execution_count": 143,
   "id": "3ba1ec93-062c-4cf4-9e11-8f244c41896c",
   "metadata": {},
   "outputs": [
    {
     "data": {
      "text/plain": [
       "[100, 20, 30, 40, 50, 20, 30, 40, 50, 200]"
      ]
     },
     "execution_count": 143,
     "metadata": {},
     "output_type": "execute_result"
    }
   ],
   "source": [
    "l[-1]=200\n",
    "l"
   ]
  },
  {
   "cell_type": "code",
   "execution_count": 144,
   "id": "68fd8236-6328-4868-88e8-7d584f56c0b3",
   "metadata": {},
   "outputs": [
    {
     "data": {
      "text/plain": [
       "[40, 50, 20, 30, 40, 50, 200]"
      ]
     },
     "execution_count": 144,
     "metadata": {},
     "output_type": "execute_result"
    }
   ],
   "source": [
    "l[3:]"
   ]
  },
  {
   "cell_type": "code",
   "execution_count": 146,
   "id": "b25d3409-47f4-4f95-85fb-e6d13e64d563",
   "metadata": {},
   "outputs": [
    {
     "data": {
      "text/plain": [
       "[]"
      ]
     },
     "execution_count": 146,
     "metadata": {},
     "output_type": "execute_result"
    }
   ],
   "source": [
    "l[10:]"
   ]
  },
  {
   "cell_type": "code",
   "execution_count": 148,
   "id": "479e9398-cdf3-4260-8b1c-636123990dd2",
   "metadata": {},
   "outputs": [
    {
     "data": {
      "text/plain": [
       "[100, 20, 30, 40, 50, 20, 30, 40, 50, 200]"
      ]
     },
     "execution_count": 148,
     "metadata": {},
     "output_type": "execute_result"
    }
   ],
   "source": [
    "l[:10]"
   ]
  },
  {
   "cell_type": "code",
   "execution_count": 150,
   "id": "12e548ce-3f05-403d-8780-4347adf5af6e",
   "metadata": {},
   "outputs": [
    {
     "data": {
      "text/plain": [
       "200"
      ]
     },
     "execution_count": 150,
     "metadata": {},
     "output_type": "execute_result"
    }
   ],
   "source": [
    "l[-1]"
   ]
  },
  {
   "cell_type": "code",
   "execution_count": 151,
   "id": "799c0825-a162-407e-b615-a057520f91f5",
   "metadata": {},
   "outputs": [],
   "source": [
    "l2.clear()"
   ]
  },
  {
   "cell_type": "code",
   "execution_count": 152,
   "id": "af88c134-9e3d-4f6b-8b28-13bb77652f27",
   "metadata": {},
   "outputs": [
    {
     "data": {
      "text/plain": [
       "[]"
      ]
     },
     "execution_count": 152,
     "metadata": {},
     "output_type": "execute_result"
    }
   ],
   "source": [
    "l2"
   ]
  },
  {
   "cell_type": "code",
   "execution_count": 153,
   "id": "bc880a68-61dc-4b37-85cf-5a4db7803047",
   "metadata": {},
   "outputs": [],
   "source": [
    "del l2"
   ]
  },
  {
   "cell_type": "code",
   "execution_count": 154,
   "id": "314d1d55-0034-4cf0-8584-db914174167b",
   "metadata": {},
   "outputs": [
    {
     "ename": "NameError",
     "evalue": "name 'l2' is not defined",
     "output_type": "error",
     "traceback": [
      "\u001b[1;31m---------------------------------------------------------------------------\u001b[0m",
      "\u001b[1;31mNameError\u001b[0m                                 Traceback (most recent call last)",
      "Cell \u001b[1;32mIn[154], line 1\u001b[0m\n\u001b[1;32m----> 1\u001b[0m l2\n",
      "\u001b[1;31mNameError\u001b[0m: name 'l2' is not defined"
     ]
    }
   ],
   "source": [
    "l2"
   ]
  },
  {
   "cell_type": "code",
   "execution_count": 155,
   "id": "1c2b50cd-9597-4256-a04d-33f69e8ce139",
   "metadata": {},
   "outputs": [
    {
     "data": {
      "text/plain": [
       "[10, 20, 30, 40, 50, 20, 30, 40, 50, 60, 2.3, 'nit', (1-2j), [1, 2, 3]]"
      ]
     },
     "execution_count": 155,
     "metadata": {},
     "output_type": "execute_result"
    }
   ],
   "source": [
    "l1"
   ]
  },
  {
   "cell_type": "code",
   "execution_count": 157,
   "id": "4e7e1ba1-e185-4e93-97de-a9f8fa52dbae",
   "metadata": {},
   "outputs": [
    {
     "data": {
      "text/plain": [
       "[10, 20, 2.3]"
      ]
     },
     "execution_count": 157,
     "metadata": {},
     "output_type": "execute_result"
    }
   ],
   "source": [
    "l1[0:12:5]"
   ]
  },
  {
   "cell_type": "code",
   "execution_count": 158,
   "id": "2c99a777-1886-497f-8d99-aeaf46bec7bf",
   "metadata": {},
   "outputs": [
    {
     "data": {
      "text/plain": [
       "[10, 20, 30, 40, 50, 20, 30, 40, 50, 60, 2.3, 'nit', (1-2j), [1, 2, 3]]"
      ]
     },
     "execution_count": 158,
     "metadata": {},
     "output_type": "execute_result"
    }
   ],
   "source": [
    "l1"
   ]
  },
  {
   "cell_type": "code",
   "execution_count": 159,
   "id": "7293df9c-b7d5-4758-b6dd-6ce2fe0a1705",
   "metadata": {},
   "outputs": [
    {
     "data": {
      "text/plain": [
       "[10, 40, 30, 60]"
      ]
     },
     "execution_count": 159,
     "metadata": {},
     "output_type": "execute_result"
    }
   ],
   "source": [
    "l1[0:11:3]  # this is called step indexing"
   ]
  },
  {
   "cell_type": "code",
   "execution_count": 160,
   "id": "11a2ff43-05dc-45e8-a67c-e7c487139c11",
   "metadata": {},
   "outputs": [
    {
     "data": {
      "text/plain": [
       "11"
      ]
     },
     "execution_count": 160,
     "metadata": {},
     "output_type": "execute_result"
    }
   ],
   "source": [
    "l1.index('nit')"
   ]
  },
  {
   "cell_type": "code",
   "execution_count": 162,
   "id": "a96942d8-ba2a-43b2-8afd-1159703910b5",
   "metadata": {},
   "outputs": [
    {
     "data": {
      "text/plain": [
       "10"
      ]
     },
     "execution_count": 162,
     "metadata": {},
     "output_type": "execute_result"
    }
   ],
   "source": [
    "l1.index(2.3)"
   ]
  },
  {
   "cell_type": "markdown",
   "id": "54b14975-ccbc-4da8-8ae4-e69793d39d28",
   "metadata": {},
   "source": [
    "# list is mutable(we can modify any value) list[]  \n",
    "called list inbuild function using .tab\n",
    "append()--add the element at last, duplicate is allowed, indexing and slicing is allowed, copy list,   clear the elements from the list, del keyword\n",
    "list is growable\n",
    "\n",
    "functions covered (append,clear,index)"
   ]
  },
  {
   "cell_type": "markdown",
   "id": "81902fb0-15e9-4b45-afa3-ad602a0dae71",
   "metadata": {},
   "source": [
    "# 22nd"
   ]
  },
  {
   "cell_type": "code",
   "execution_count": 2,
   "id": "3cf14939-4458-4100-be54-d1ccfe819529",
   "metadata": {},
   "outputs": [
    {
     "ename": "NameError",
     "evalue": "name 'l' is not defined",
     "output_type": "error",
     "traceback": [
      "\u001b[1;31m---------------------------------------------------------------------------\u001b[0m",
      "\u001b[1;31mNameError\u001b[0m                                 Traceback (most recent call last)",
      "Cell \u001b[1;32mIn[2], line 1\u001b[0m\n\u001b[1;32m----> 1\u001b[0m \u001b[38;5;28mprint\u001b[39m(l)\n\u001b[0;32m      2\u001b[0m \u001b[38;5;28mprint\u001b[39m(l1)\n",
      "\u001b[1;31mNameError\u001b[0m: name 'l' is not defined"
     ]
    }
   ],
   "source": [
    "print(l)\n",
    "print(l1)"
   ]
  },
  {
   "cell_type": "code",
   "execution_count": 3,
   "id": "abb231ef-0a88-400b-9fa4-930b489889da",
   "metadata": {},
   "outputs": [
    {
     "ename": "NameError",
     "evalue": "name 'l1' is not defined",
     "output_type": "error",
     "traceback": [
      "\u001b[1;31m---------------------------------------------------------------------------\u001b[0m",
      "\u001b[1;31mNameError\u001b[0m                                 Traceback (most recent call last)",
      "Cell \u001b[1;32mIn[3], line 1\u001b[0m\n\u001b[1;32m----> 1\u001b[0m \u001b[38;5;28mprint\u001b[39m(l1)\n",
      "\u001b[1;31mNameError\u001b[0m: name 'l1' is not defined"
     ]
    }
   ],
   "source": [
    "print(l1)"
   ]
  },
  {
   "cell_type": "code",
   "execution_count": 4,
   "id": "7d5a5cb1-c5fa-475a-83b1-d2f4b29f441c",
   "metadata": {},
   "outputs": [],
   "source": [
    "l1=[10, 20, 30, 40, 50, 20, 30, 40, 50, 60, 2.3, 'nit', (1-2j), [1, 2, 3]]\n",
    "l=[10, 20, 30, 40, 50, 20, 30, 40, 50, 60]"
   ]
  },
  {
   "cell_type": "code",
   "execution_count": 12,
   "id": "874707b5-cacf-486b-87e6-3b84e3cf5ebe",
   "metadata": {},
   "outputs": [
    {
     "name": "stdout",
     "output_type": "stream",
     "text": [
      "n\n",
      "i\n",
      "t\n"
     ]
    }
   ],
   "source": [
    "print(l1[11][0])\n",
    "print(l1[11][1])\n",
    "print(l1[11][2])"
   ]
  },
  {
   "cell_type": "code",
   "execution_count": 7,
   "id": "4a03c457-590d-4b37-855e-19fb7895a527",
   "metadata": {},
   "outputs": [
    {
     "data": {
      "text/plain": [
       "1"
      ]
     },
     "execution_count": 7,
     "metadata": {},
     "output_type": "execute_result"
    }
   ],
   "source": [
    "l1.count(10)"
   ]
  },
  {
   "cell_type": "code",
   "execution_count": 8,
   "id": "39ebe530-0f6f-43b2-af90-9d361835df4e",
   "metadata": {},
   "outputs": [
    {
     "data": {
      "text/plain": [
       "[10, 20, 30, 40, 50, 20, 30, 40, 50, 60, 2.3, 'nit', (1-2j), [1, 2, 3]]"
      ]
     },
     "execution_count": 8,
     "metadata": {},
     "output_type": "execute_result"
    }
   ],
   "source": [
    "l1"
   ]
  },
  {
   "cell_type": "code",
   "execution_count": 10,
   "id": "32c1cbb0-7d27-496f-8128-d509a51cceb2",
   "metadata": {},
   "outputs": [],
   "source": [
    "l1.remove([1,2,3]) #removing the element from the list(it removes the first occurance element)"
   ]
  },
  {
   "cell_type": "code",
   "execution_count": 11,
   "id": "2f20dcec-b06d-4808-b00f-aa5faf1d3c70",
   "metadata": {},
   "outputs": [
    {
     "data": {
      "text/plain": [
       "[10, 20, 30, 40, 50, 20, 30, 40, 50, 60, 2.3, 'nit', (1-2j)]"
      ]
     },
     "execution_count": 11,
     "metadata": {},
     "output_type": "execute_result"
    }
   ],
   "source": [
    "l1"
   ]
  },
  {
   "cell_type": "code",
   "execution_count": 13,
   "id": "d6670d07-fb3c-4086-8b02-9ada0c9c8cc5",
   "metadata": {},
   "outputs": [],
   "source": [
    "l1.remove(10)"
   ]
  },
  {
   "cell_type": "code",
   "execution_count": 14,
   "id": "6309cc31-1d9b-45b1-acdc-e19b47ab0a46",
   "metadata": {},
   "outputs": [
    {
     "data": {
      "text/plain": [
       "[20, 30, 40, 50, 20, 30, 40, 50, 60, 2.3, 'nit', (1-2j)]"
      ]
     },
     "execution_count": 14,
     "metadata": {},
     "output_type": "execute_result"
    }
   ],
   "source": [
    "l1"
   ]
  },
  {
   "cell_type": "code",
   "execution_count": 15,
   "id": "de7d4ba2-5d30-4642-b789-53698d23bd3e",
   "metadata": {},
   "outputs": [
    {
     "data": {
      "text/plain": [
       "[30, 40, 50, 20, 30, 40, 50, 60, 2.3, 'nit', (1-2j)]"
      ]
     },
     "execution_count": 15,
     "metadata": {},
     "output_type": "execute_result"
    }
   ],
   "source": [
    "l1.remove(20)\n",
    "l1"
   ]
  },
  {
   "cell_type": "code",
   "execution_count": 16,
   "id": "5acf5618-5257-42fb-a5f5-1dff7d2dea7a",
   "metadata": {},
   "outputs": [
    {
     "data": {
      "text/plain": [
       "[10, 20, 30, 40, 50, 20, 30, 40, 50, 60]"
      ]
     },
     "execution_count": 16,
     "metadata": {},
     "output_type": "execute_result"
    }
   ],
   "source": [
    "l"
   ]
  },
  {
   "cell_type": "code",
   "execution_count": 18,
   "id": "f4fec1c3-37fa-4943-ae7b-fd906385d11c",
   "metadata": {},
   "outputs": [
    {
     "data": {
      "text/plain": [
       "[10, 20, 30, 40, 50, 20, 30, 40, 50, 60, 25, 25]"
      ]
     },
     "execution_count": 18,
     "metadata": {},
     "output_type": "execute_result"
    }
   ],
   "source": [
    "l.append(25)\n",
    "l"
   ]
  },
  {
   "cell_type": "code",
   "execution_count": 19,
   "id": "68a6c03c-3c2c-40ad-8aa4-037e950e4d75",
   "metadata": {},
   "outputs": [
    {
     "data": {
      "text/plain": [
       "[10, 20, 29, 30, 40, 50, 20, 30, 40, 50, 60, 25, 25]"
      ]
     },
     "execution_count": 19,
     "metadata": {},
     "output_type": "execute_result"
    }
   ],
   "source": [
    "l.insert(2,29)  # at insert function by defaut user need to pass 2 arguments, 1st is index position, 2nd arg is value\n",
    "l"
   ]
  },
  {
   "cell_type": "code",
   "execution_count": 21,
   "id": "da6afc00-4941-4286-b9e4-933cc8ba01b0",
   "metadata": {},
   "outputs": [
    {
     "data": {
      "text/plain": [
       "25"
      ]
     },
     "execution_count": 21,
     "metadata": {},
     "output_type": "execute_result"
    }
   ],
   "source": [
    "l.pop() # pop will remove the last element in the list"
   ]
  },
  {
   "cell_type": "code",
   "execution_count": 22,
   "id": "38bd5caa-14d5-42ca-add1-4d2c61303d35",
   "metadata": {},
   "outputs": [
    {
     "data": {
      "text/plain": [
       "[10, 20, 29, 30, 40, 50, 20, 30, 40, 50, 60, 25]"
      ]
     },
     "execution_count": 22,
     "metadata": {},
     "output_type": "execute_result"
    }
   ],
   "source": [
    "l"
   ]
  },
  {
   "cell_type": "code",
   "execution_count": 23,
   "id": "f45e74d2-6109-418c-87f4-e7f2611d06f3",
   "metadata": {},
   "outputs": [
    {
     "data": {
      "text/plain": [
       "[30, 40, 50, 20, 30, 40, 50, 60, 2.3, 'nit', (1-2j)]"
      ]
     },
     "execution_count": 23,
     "metadata": {},
     "output_type": "execute_result"
    }
   ],
   "source": [
    "l1"
   ]
  },
  {
   "cell_type": "code",
   "execution_count": 24,
   "id": "a9e46d46-01d3-4981-a59f-a04902ab6a28",
   "metadata": {},
   "outputs": [
    {
     "data": {
      "text/plain": [
       "[30, 40, 50, 20, 30, 40, 50, 60, 2.3, 'nit']"
      ]
     },
     "execution_count": 24,
     "metadata": {},
     "output_type": "execute_result"
    }
   ],
   "source": [
    "l1.pop()\n",
    "l1"
   ]
  },
  {
   "cell_type": "markdown",
   "id": "0b123311-1199-4c15-8434-a455cac282d0",
   "metadata": {},
   "source": [
    "#pop(3)  will remove index wise(value of the 3rd index)\n",
    "#pop() by default last value will be removed\n",
    "#remove by element number"
   ]
  },
  {
   "cell_type": "code",
   "execution_count": 26,
   "id": "703ab76d-df78-4dfb-9419-77cffea00060",
   "metadata": {},
   "outputs": [
    {
     "data": {
      "text/plain": [
       "[30, 40, 50, 20, 30, 40, 50, 60, 2.3, 'nit']"
      ]
     },
     "execution_count": 26,
     "metadata": {},
     "output_type": "execute_result"
    }
   ],
   "source": [
    "l1"
   ]
  },
  {
   "cell_type": "code",
   "execution_count": 27,
   "id": "274e5554-3144-4faa-a0ca-9d99ad6f0a62",
   "metadata": {},
   "outputs": [
    {
     "data": {
      "text/plain": [
       "12"
      ]
     },
     "execution_count": 27,
     "metadata": {},
     "output_type": "execute_result"
    }
   ],
   "source": [
    "len(l)"
   ]
  },
  {
   "cell_type": "code",
   "execution_count": 28,
   "id": "bdbefd07-8d45-4941-bcac-0801ab86f535",
   "metadata": {},
   "outputs": [
    {
     "data": {
      "text/plain": [
       "12"
      ]
     },
     "execution_count": 28,
     "metadata": {},
     "output_type": "execute_result"
    }
   ],
   "source": [
    "len(l)"
   ]
  },
  {
   "cell_type": "code",
   "execution_count": 29,
   "id": "eec28a91-e8db-47e9-bacf-65f11c040e63",
   "metadata": {},
   "outputs": [],
   "source": [
    "l2=l1.extend(l)"
   ]
  },
  {
   "cell_type": "code",
   "execution_count": 31,
   "id": "14ab4c6b-f250-42f8-9389-7d2f7b36e72b",
   "metadata": {},
   "outputs": [],
   "source": [
    "l3=l1.copy()"
   ]
  },
  {
   "cell_type": "code",
   "execution_count": 33,
   "id": "98206027-ca9b-4220-883d-9d4557a44b35",
   "metadata": {},
   "outputs": [
    {
     "data": {
      "text/plain": [
       "[30,\n",
       " 40,\n",
       " 50,\n",
       " 20,\n",
       " 30,\n",
       " 40,\n",
       " 50,\n",
       " 60,\n",
       " 2.3,\n",
       " 'nit',\n",
       " 10,\n",
       " 20,\n",
       " 29,\n",
       " 30,\n",
       " 40,\n",
       " 50,\n",
       " 20,\n",
       " 30,\n",
       " 40,\n",
       " 50,\n",
       " 60,\n",
       " 25]"
      ]
     },
     "execution_count": 33,
     "metadata": {},
     "output_type": "execute_result"
    }
   ],
   "source": [
    "l3"
   ]
  },
  {
   "cell_type": "code",
   "execution_count": 36,
   "id": "0a473534-2dad-442c-8b0c-87fd0635338f",
   "metadata": {},
   "outputs": [],
   "source": [
    "l4=l1.extend(l)"
   ]
  },
  {
   "cell_type": "code",
   "execution_count": 37,
   "id": "747068a2-cfaa-4074-8a4b-b1c67ca0ab81",
   "metadata": {},
   "outputs": [],
   "source": [
    "l4"
   ]
  },
  {
   "cell_type": "code",
   "execution_count": 38,
   "id": "a9553065-3103-4854-9bef-a8d8f372a02a",
   "metadata": {},
   "outputs": [
    {
     "data": {
      "text/plain": [
       "[30,\n",
       " 40,\n",
       " 50,\n",
       " 20,\n",
       " 30,\n",
       " 40,\n",
       " 50,\n",
       " 60,\n",
       " 2.3,\n",
       " 'nit',\n",
       " 10,\n",
       " 20,\n",
       " 29,\n",
       " 30,\n",
       " 40,\n",
       " 50,\n",
       " 20,\n",
       " 30,\n",
       " 40,\n",
       " 50,\n",
       " 60,\n",
       " 25]"
      ]
     },
     "execution_count": 38,
     "metadata": {},
     "output_type": "execute_result"
    }
   ],
   "source": [
    "l3"
   ]
  },
  {
   "cell_type": "code",
   "execution_count": 39,
   "id": "9a1dbde2-deaa-47a3-8dd6-dfa44ff18e85",
   "metadata": {},
   "outputs": [],
   "source": [
    "l3.extend(l1)"
   ]
  },
  {
   "cell_type": "code",
   "execution_count": 40,
   "id": "71337666-3842-4748-a8bf-74e13fca34ee",
   "metadata": {},
   "outputs": [
    {
     "data": {
      "text/plain": [
       "[30,\n",
       " 40,\n",
       " 50,\n",
       " 20,\n",
       " 30,\n",
       " 40,\n",
       " 50,\n",
       " 60,\n",
       " 2.3,\n",
       " 'nit',\n",
       " 10,\n",
       " 20,\n",
       " 29,\n",
       " 30,\n",
       " 40,\n",
       " 50,\n",
       " 20,\n",
       " 30,\n",
       " 40,\n",
       " 50,\n",
       " 60,\n",
       " 25,\n",
       " 30,\n",
       " 40,\n",
       " 50,\n",
       " 20,\n",
       " 30,\n",
       " 40,\n",
       " 50,\n",
       " 60,\n",
       " 2.3,\n",
       " 'nit',\n",
       " 10,\n",
       " 20,\n",
       " 29,\n",
       " 30,\n",
       " 40,\n",
       " 50,\n",
       " 20,\n",
       " 30,\n",
       " 40,\n",
       " 50,\n",
       " 60,\n",
       " 25,\n",
       " 10,\n",
       " 20,\n",
       " 29,\n",
       " 30,\n",
       " 40,\n",
       " 50,\n",
       " 20,\n",
       " 30,\n",
       " 40,\n",
       " 50,\n",
       " 60,\n",
       " 25]"
      ]
     },
     "execution_count": 40,
     "metadata": {},
     "output_type": "execute_result"
    }
   ],
   "source": [
    "l3"
   ]
  },
  {
   "cell_type": "code",
   "execution_count": 41,
   "id": "4ab13f3b-31fc-4e26-b923-b9e097360136",
   "metadata": {},
   "outputs": [
    {
     "data": {
      "text/plain": [
       "[1, 2]"
      ]
     },
     "execution_count": 41,
     "metadata": {},
     "output_type": "execute_result"
    }
   ],
   "source": [
    "l7=[1,2]\n",
    "l7"
   ]
  },
  {
   "cell_type": "code",
   "execution_count": null,
   "id": "25c738c9-6d7f-49a2-ad9d-c36661a2658f",
   "metadata": {},
   "outputs": [],
   "source": [
    "l1.sort"
   ]
  }
 ],
 "metadata": {
  "kernelspec": {
   "display_name": "Python 3 (ipykernel)",
   "language": "python",
   "name": "python3"
  },
  "language_info": {
   "codemirror_mode": {
    "name": "ipython",
    "version": 3
   },
   "file_extension": ".py",
   "mimetype": "text/x-python",
   "name": "python",
   "nbconvert_exporter": "python",
   "pygments_lexer": "ipython3",
   "version": "3.12.7"
  }
 },
 "nbformat": 4,
 "nbformat_minor": 5
}
